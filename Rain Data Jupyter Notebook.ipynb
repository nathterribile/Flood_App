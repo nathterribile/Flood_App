{
 "cells": [
  {
   "cell_type": "markdown",
   "id": "cd72760a",
   "metadata": {},
   "source": [
    "# Rain Data"
   ]
  },
  {
   "cell_type": "markdown",
   "id": "635b3101",
   "metadata": {},
   "source": [
    "### Data Downloads"
   ]
  },
  {
   "cell_type": "code",
   "execution_count": 3,
   "id": "1ca08bbc",
   "metadata": {},
   "outputs": [],
   "source": [
    "import pandas as pd\n",
    "\n",
    "df_sisdagro = pd.read_excel(\"BALANÇO HÍDRICO SAO PAULO(MIR.de SANTANA) (C).xls\")\n",
    "df_sisdagro[\"Dia\"] = pd.to_datetime(df_sisdagro['DATA'], dayfirst=True)"
   ]
  },
  {
   "cell_type": "code",
   "execution_count": 4,
   "id": "c3ab6e72",
   "metadata": {},
   "outputs": [],
   "source": [
    "df_inmet = pd.read_json('https://apitempo.inmet.gov.br/estacao/2011-01-01/2021-10-21/A701') "
   ]
  },
  {
   "cell_type": "markdown",
   "id": "712742f8",
   "metadata": {},
   "source": [
    "### Inmet data cleaning"
   ]
  },
  {
   "cell_type": "code",
   "execution_count": 5,
   "id": "5ab38f7a",
   "metadata": {},
   "outputs": [],
   "source": [
    "df_inmet_clean = df_inmet.drop([\"DC_NOME\", \"VEN_DIR\", \"PRE_INS\",\"VL_LATITUDE\", \"PRE_MIN\", \"UMD_MAX\", \"PRE_MAX\", \"VEN_VEL\", \"PTO_MIN\", \"PTO_INS\", \"VEN_RAJ\", \"TEM_INS\", \"UMD_INS\", \"TEM_MIN\", \"TEM_MAX\", \"RAD_GLO\", \"VL_LONGITUDE\", \"UMD_MIN\", \"PTO_MAX\", \"TEM_SEN\", \"UF\",\"CD_ESTACAO\"], axis=1)\n",
    "df_inmet_clean.columns = ['Dia', 'Chuva (mm)', 'Hora (h)']\n",
    "df_inmet_clean[\"Dia\"] = df_inmet_clean[\"Dia\"].astype(str)\n",
    "df_inmet_clean[\"Dia\"] = pd.to_datetime(df_inmet_clean['Dia'], dayfirst=True)\n",
    "df_inmet_clean[\"Hora (h)\"]= df_inmet_clean[\"Hora (h)\"].astype(str)\n",
    "df_inmet_clean[\"Hora (h)\"]= df_inmet_clean[\"Hora (h)\"].str.zfill(4)"
   ]
  },
  {
   "cell_type": "markdown",
   "id": "7f977e58",
   "metadata": {},
   "source": [
    "### Inmet and sisdagro table union"
   ]
  },
  {
   "cell_type": "code",
   "execution_count": 6,
   "id": "b77a9a3d",
   "metadata": {},
   "outputs": [],
   "source": [
    "left = df_sisdagro\n",
    "right = df_inmet_clean\n",
    "Df = pd.merge(left,right,on='Dia')\n",
    "Df_adjust = Df.drop(['Precipitação (mm)', 'DATA'], axis=1)"
   ]
  },
  {
   "cell_type": "markdown",
   "id": "f79bba46",
   "metadata": {},
   "source": [
    "### Cgesp site data inserting"
   ]
  },
  {
   "cell_type": "code",
   "execution_count": 7,
   "id": "fed8e511",
   "metadata": {
    "scrolled": true
   },
   "outputs": [],
   "source": [
    "str_start = 'https://www.cgesp.org/v3/alagamentos.jsp?dataBusca='\n",
    "str_end = '&enviaBusca=Buscar'\n",
    "Df_adjust['Data'] = Df_adjust['Dia'].dt.strftime('%d%%2F%m%%2F%Y') "
   ]
  },
  {
   "cell_type": "code",
   "execution_count": null,
   "id": "f82dfcb5",
   "metadata": {
    "scrolled": true
   },
   "outputs": [],
   "source": [
    "Df_adjust['URL'] = str_start + Df_adjust['Data'] + str_end      "
   ]
  },
  {
   "cell_type": "code",
   "execution_count": null,
   "id": "2bd12285",
   "metadata": {},
   "outputs": [],
   "source": [
    "idx = Df_adjust.index\n",
    "\n",
    "santana_floods = {}\n",
    "\n",
    "\n",
    "for i in idx:\n",
    "    if i<10000:\n",
    "    \n",
    "        try:\n",
    "            cgesp = pd.read_html(Df_adjust['URL'].loc[i])\n",
    "            for k in cgesp:\n",
    "                floods_by_zone = k[0][0]\n",
    "                if 'Santana' in floods_by_zone:\n",
    "                    santana_floods.update({i:'Santana'})\n",
    "                 \n",
    "        except ValueError:\n",
    "            continue\n"
   ]
  },
  {
   "cell_type": "code",
   "execution_count": null,
   "id": "163f39ea",
   "metadata": {},
   "outputs": [],
   "source": [
    "idx = Df_adjust.index\n",
    "\n",
    "santana_floods1 = {}\n",
    "\n",
    "\n",
    "for i in idx:\n",
    "    if 10000<=i<20000:\n",
    "    \n",
    "        try:\n",
    "            cgesp = pd.read_html(Df_adjust['URL'].loc[i])\n",
    "            for k in cgesp:\n",
    "                floods_by_zone = k[0][0]\n",
    "                if 'Santana' in floods_by_zone:\n",
    "                    santana_floods1.update({i:'Santana'})\n",
    "                 \n",
    "        except ValueError:\n",
    "            continue"
   ]
  },
  {
   "cell_type": "code",
   "execution_count": 17,
   "id": "29cbd714",
   "metadata": {},
   "outputs": [],
   "source": [
    "idx = Df_adjust.index\n",
    "\n",
    "santana_floods2 = {}\n",
    "\n",
    "\n",
    "for i in idx:\n",
    "    if 20000<=i<30000:\n",
    "    \n",
    "        try:\n",
    "            cgesp = pd.read_html(Df_adjust['URL'].loc[i])\n",
    "            for k in cgesp:\n",
    "                floods_by_zone = k[0][0]\n",
    "                if 'Santana' in floods_by_zone:\n",
    "                    santana_floods2.update({i:'Santana'})\n",
    "                 \n",
    "        except ValueError:\n",
    "            continue"
   ]
  },
  {
   "cell_type": "code",
   "execution_count": 19,
   "id": "3655c5fa",
   "metadata": {},
   "outputs": [],
   "source": [
    "idx = Df_adjust.index\n",
    "\n",
    "santana_floods3 = {}\n",
    "\n",
    "\n",
    "for i in idx:\n",
    "    if 30000<=i<40000:\n",
    "    \n",
    "        try:\n",
    "            cgesp = pd.read_html(Df_adjust['URL'].loc[i])\n",
    "            for k in cgesp:\n",
    "                floods_by_zone = k[0][0]\n",
    "                if 'Santana' in floods_by_zone:\n",
    "                    santana_floods3.update({i:'Santana'})\n",
    "                 \n",
    "        except ValueError:\n",
    "            continue"
   ]
  },
  {
   "cell_type": "code",
   "execution_count": 21,
   "id": "3b7367ad",
   "metadata": {},
   "outputs": [],
   "source": [
    "idx = Df_adjust.index\n",
    "\n",
    "santana_floods4 = {}\n",
    "\n",
    "\n",
    "for i in idx:\n",
    "    if 40000<=i<50000:\n",
    "    \n",
    "        try:\n",
    "            cgesp = pd.read_html(Df_adjust['URL'].loc[i])\n",
    "            for k in cgesp:\n",
    "                floods_by_zone = k[0][0]\n",
    "                if 'Santana' in floods_by_zone:\n",
    "                    santana_floods4.update({i:'Santana'})\n",
    "                 \n",
    "        except ValueError:\n",
    "            continue"
   ]
  },
  {
   "cell_type": "code",
   "execution_count": null,
   "id": "bab2480d",
   "metadata": {},
   "outputs": [],
   "source": [
    "idx = Df_adjust.index\n",
    "\n",
    "santana_floods4 = {}\n",
    "\n",
    "\n",
    "for i in idx:\n",
    "    if 50000<=i<60000:\n",
    "    \n",
    "        try:\n",
    "            cgesp = pd.read_html(Df_adjust['URL'].loc[i])\n",
    "            for k in cgesp:\n",
    "                floods_by_zone = k[0][0]\n",
    "                if 'Santana' in floods_by_zone:\n",
    "                    santana_floods4.update({i:'Santana'})\n",
    "                 \n",
    "        except ValueError:\n",
    "            continue"
   ]
  }
 ],
 "metadata": {
  "kernelspec": {
   "display_name": "Python 3",
   "language": "python",
   "name": "python3"
  },
  "language_info": {
   "codemirror_mode": {
    "name": "ipython",
    "version": 3
   },
   "file_extension": ".py",
   "mimetype": "text/x-python",
   "name": "python",
   "nbconvert_exporter": "python",
   "pygments_lexer": "ipython3",
   "version": "3.8.8"
  }
 },
 "nbformat": 4,
 "nbformat_minor": 5
}
